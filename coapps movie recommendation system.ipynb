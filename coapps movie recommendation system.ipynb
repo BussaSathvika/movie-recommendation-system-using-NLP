{
 "cells": [
  {
   "cell_type": "markdown",
   "id": "da3096c6",
   "metadata": {},
   "source": [
    "# Step- 1 :import Libraries"
   ]
  },
  {
   "cell_type": "code",
   "execution_count": 8,
   "id": "fb3ce7fa",
   "metadata": {},
   "outputs": [],
   "source": [
    "import pandas as pd"
   ]
  },
  {
   "cell_type": "markdown",
   "id": "98a2a3c6",
   "metadata": {},
   "source": [
    "# Import and read data"
   ]
  },
  {
   "cell_type": "code",
   "execution_count": 9,
   "id": "d4fe8fad",
   "metadata": {},
   "outputs": [],
   "source": [
    "data = pd.read_csv(\"E:\\SATHVIKA\\coapps\\wiki_movie_plots_deduped.csv\")"
   ]
  },
  {
   "cell_type": "markdown",
   "id": "cd1ba6c0",
   "metadata": {},
   "source": [
    "# df.head()"
   ]
  },
  {
   "cell_type": "code",
   "execution_count": 10,
   "id": "e5523850",
   "metadata": {},
   "outputs": [
    {
     "data": {
      "text/html": [
       "<div>\n",
       "<style scoped>\n",
       "    .dataframe tbody tr th:only-of-type {\n",
       "        vertical-align: middle;\n",
       "    }\n",
       "\n",
       "    .dataframe tbody tr th {\n",
       "        vertical-align: top;\n",
       "    }\n",
       "\n",
       "    .dataframe thead th {\n",
       "        text-align: right;\n",
       "    }\n",
       "</style>\n",
       "<table border=\"1\" class=\"dataframe\">\n",
       "  <thead>\n",
       "    <tr style=\"text-align: right;\">\n",
       "      <th></th>\n",
       "      <th>Release Year</th>\n",
       "      <th>Title</th>\n",
       "      <th>Origin/Ethnicity</th>\n",
       "      <th>Director</th>\n",
       "      <th>Cast</th>\n",
       "      <th>Genre</th>\n",
       "      <th>Wiki Page</th>\n",
       "      <th>Plot</th>\n",
       "    </tr>\n",
       "  </thead>\n",
       "  <tbody>\n",
       "    <tr>\n",
       "      <th>0</th>\n",
       "      <td>1901</td>\n",
       "      <td>Kansas Saloon Smashers</td>\n",
       "      <td>American</td>\n",
       "      <td>Unknown</td>\n",
       "      <td>NaN</td>\n",
       "      <td>unknown</td>\n",
       "      <td>https://en.wikipedia.org/wiki/Kansas_Saloon_Sm...</td>\n",
       "      <td>A bartender is working at a saloon, serving dr...</td>\n",
       "    </tr>\n",
       "    <tr>\n",
       "      <th>1</th>\n",
       "      <td>1901</td>\n",
       "      <td>Love by the Light of the Moon</td>\n",
       "      <td>American</td>\n",
       "      <td>Unknown</td>\n",
       "      <td>NaN</td>\n",
       "      <td>unknown</td>\n",
       "      <td>https://en.wikipedia.org/wiki/Love_by_the_Ligh...</td>\n",
       "      <td>The moon, painted with a smiling face hangs ov...</td>\n",
       "    </tr>\n",
       "    <tr>\n",
       "      <th>2</th>\n",
       "      <td>1901</td>\n",
       "      <td>The Martyred Presidents</td>\n",
       "      <td>American</td>\n",
       "      <td>Unknown</td>\n",
       "      <td>NaN</td>\n",
       "      <td>unknown</td>\n",
       "      <td>https://en.wikipedia.org/wiki/The_Martyred_Pre...</td>\n",
       "      <td>The film, just over a minute long, is composed...</td>\n",
       "    </tr>\n",
       "    <tr>\n",
       "      <th>3</th>\n",
       "      <td>1901</td>\n",
       "      <td>Terrible Teddy, the Grizzly King</td>\n",
       "      <td>American</td>\n",
       "      <td>Unknown</td>\n",
       "      <td>NaN</td>\n",
       "      <td>unknown</td>\n",
       "      <td>https://en.wikipedia.org/wiki/Terrible_Teddy,_...</td>\n",
       "      <td>Lasting just 61 seconds and consisting of two ...</td>\n",
       "    </tr>\n",
       "    <tr>\n",
       "      <th>4</th>\n",
       "      <td>1902</td>\n",
       "      <td>Jack and the Beanstalk</td>\n",
       "      <td>American</td>\n",
       "      <td>George S. Fleming, Edwin S. Porter</td>\n",
       "      <td>NaN</td>\n",
       "      <td>unknown</td>\n",
       "      <td>https://en.wikipedia.org/wiki/Jack_and_the_Bea...</td>\n",
       "      <td>The earliest known adaptation of the classic f...</td>\n",
       "    </tr>\n",
       "  </tbody>\n",
       "</table>\n",
       "</div>"
      ],
      "text/plain": [
       "   Release Year                             Title Origin/Ethnicity  \\\n",
       "0          1901            Kansas Saloon Smashers         American   \n",
       "1          1901     Love by the Light of the Moon         American   \n",
       "2          1901           The Martyred Presidents         American   \n",
       "3          1901  Terrible Teddy, the Grizzly King         American   \n",
       "4          1902            Jack and the Beanstalk         American   \n",
       "\n",
       "                             Director Cast    Genre  \\\n",
       "0                             Unknown  NaN  unknown   \n",
       "1                             Unknown  NaN  unknown   \n",
       "2                             Unknown  NaN  unknown   \n",
       "3                             Unknown  NaN  unknown   \n",
       "4  George S. Fleming, Edwin S. Porter  NaN  unknown   \n",
       "\n",
       "                                           Wiki Page  \\\n",
       "0  https://en.wikipedia.org/wiki/Kansas_Saloon_Sm...   \n",
       "1  https://en.wikipedia.org/wiki/Love_by_the_Ligh...   \n",
       "2  https://en.wikipedia.org/wiki/The_Martyred_Pre...   \n",
       "3  https://en.wikipedia.org/wiki/Terrible_Teddy,_...   \n",
       "4  https://en.wikipedia.org/wiki/Jack_and_the_Bea...   \n",
       "\n",
       "                                                Plot  \n",
       "0  A bartender is working at a saloon, serving dr...  \n",
       "1  The moon, painted with a smiling face hangs ov...  \n",
       "2  The film, just over a minute long, is composed...  \n",
       "3  Lasting just 61 seconds and consisting of two ...  \n",
       "4  The earliest known adaptation of the classic f...  "
      ]
     },
     "execution_count": 10,
     "metadata": {},
     "output_type": "execute_result"
    }
   ],
   "source": [
    "data.head()\n"
   ]
  },
  {
   "cell_type": "markdown",
   "id": "6057c325",
   "metadata": {},
   "source": [
    "# df.Shape()"
   ]
  },
  {
   "cell_type": "code",
   "execution_count": 11,
   "id": "757428ff",
   "metadata": {},
   "outputs": [
    {
     "data": {
      "text/plain": [
       "(34886, 8)"
      ]
     },
     "execution_count": 11,
     "metadata": {},
     "output_type": "execute_result"
    }
   ],
   "source": [
    "data.shape\n"
   ]
  },
  {
   "cell_type": "markdown",
   "id": "668bcddf",
   "metadata": {},
   "source": [
    "# Step 2: Choose only some portion of data"
   ]
  },
  {
   "cell_type": "code",
   "execution_count": 12,
   "id": "ca1af89f",
   "metadata": {},
   "outputs": [
    {
     "data": {
      "text/plain": [
       "104"
      ]
     },
     "execution_count": 12,
     "metadata": {},
     "output_type": "execute_result"
    }
   ],
   "source": [
    "data2 = data.loc[(data['Origin/Ethnicity']=='Telugu') & (data['Release Year']>2015)]\n",
    "len(data2)"
   ]
  },
  {
   "cell_type": "code",
   "execution_count": 13,
   "id": "cc113a35",
   "metadata": {},
   "outputs": [],
   "source": [
    "my_data = pd.DataFrame(data2)"
   ]
  },
  {
   "cell_type": "code",
   "execution_count": 14,
   "id": "67482f2e",
   "metadata": {},
   "outputs": [
    {
     "data": {
      "text/html": [
       "<div>\n",
       "<style scoped>\n",
       "    .dataframe tbody tr th:only-of-type {\n",
       "        vertical-align: middle;\n",
       "    }\n",
       "\n",
       "    .dataframe tbody tr th {\n",
       "        vertical-align: top;\n",
       "    }\n",
       "\n",
       "    .dataframe thead th {\n",
       "        text-align: right;\n",
       "    }\n",
       "</style>\n",
       "<table border=\"1\" class=\"dataframe\">\n",
       "  <thead>\n",
       "    <tr style=\"text-align: right;\">\n",
       "      <th></th>\n",
       "      <th>Release Year</th>\n",
       "      <th>Title</th>\n",
       "      <th>Origin/Ethnicity</th>\n",
       "      <th>Director</th>\n",
       "      <th>Cast</th>\n",
       "      <th>Genre</th>\n",
       "      <th>Wiki Page</th>\n",
       "      <th>Plot</th>\n",
       "    </tr>\n",
       "  </thead>\n",
       "  <tbody>\n",
       "    <tr>\n",
       "      <th>32797</th>\n",
       "      <td>2017</td>\n",
       "      <td>Logesh Kanagaraj</td>\n",
       "      <td>Telugu</td>\n",
       "      <td>Unknown</td>\n",
       "      <td>Sundeep Kishan, Sri, Regina Cassandra</td>\n",
       "      <td>unknown</td>\n",
       "      <td>https://en.wikipedia.org/wiki/Maanagaram</td>\n",
       "      <td>The names of the lead characters are not revea...</td>\n",
       "    </tr>\n",
       "    <tr>\n",
       "      <th>32798</th>\n",
       "      <td>2017</td>\n",
       "      <td>Doss Ramaswamy</td>\n",
       "      <td>Telugu</td>\n",
       "      <td>Unknown</td>\n",
       "      <td>Nayanthara, Sulile Kumar, Harish Uthaman, Tham...</td>\n",
       "      <td>unknown</td>\n",
       "      <td>https://en.wikipedia.org/wiki/Dora_(2017_film)</td>\n",
       "      <td>The film opens with Pavalakkodi (Nayanthara) i...</td>\n",
       "    </tr>\n",
       "    <tr>\n",
       "      <th>32799</th>\n",
       "      <td>2017</td>\n",
       "      <td>James Erskine</td>\n",
       "      <td>Telugu</td>\n",
       "      <td>Unknown</td>\n",
       "      <td>Sachin Tendulkar, Arjun Tendulkar, Mahendra Si...</td>\n",
       "      <td>unknown</td>\n",
       "      <td>https://en.wikipedia.org/wiki/Sachin:_A_Billio...</td>\n",
       "      <td>Before the film, clips are shown of birth of S...</td>\n",
       "    </tr>\n",
       "    <tr>\n",
       "      <th>32800</th>\n",
       "      <td>2017</td>\n",
       "      <td>ARK Saravanan</td>\n",
       "      <td>Telugu</td>\n",
       "      <td>Unknown</td>\n",
       "      <td>Aadhi, Nikki Galrani, Anandaraj</td>\n",
       "      <td>unknown</td>\n",
       "      <td>https://en.wikipedia.org/wiki/Maragadha_Naanayam</td>\n",
       "      <td>Prelude: Nearly a thousand years ago King Irum...</td>\n",
       "    </tr>\n",
       "    <tr>\n",
       "      <th>32801</th>\n",
       "      <td>2017</td>\n",
       "      <td>Ravi Udyawar</td>\n",
       "      <td>Telugu</td>\n",
       "      <td>Unknown</td>\n",
       "      <td>Sridevi, Nawazuddin Siddiqui, Akshaye Khanna, ...</td>\n",
       "      <td>unknown</td>\n",
       "      <td>https://en.wikipedia.org/wiki/Mom_(film)</td>\n",
       "      <td>Biology teacher Devki is vivacious and popular...</td>\n",
       "    </tr>\n",
       "  </tbody>\n",
       "</table>\n",
       "</div>"
      ],
      "text/plain": [
       "       Release Year             Title Origin/Ethnicity Director  \\\n",
       "32797          2017  Logesh Kanagaraj           Telugu  Unknown   \n",
       "32798          2017    Doss Ramaswamy           Telugu  Unknown   \n",
       "32799          2017     James Erskine           Telugu  Unknown   \n",
       "32800          2017     ARK Saravanan           Telugu  Unknown   \n",
       "32801          2017      Ravi Udyawar           Telugu  Unknown   \n",
       "\n",
       "                                                    Cast    Genre  \\\n",
       "32797              Sundeep Kishan, Sri, Regina Cassandra  unknown   \n",
       "32798  Nayanthara, Sulile Kumar, Harish Uthaman, Tham...  unknown   \n",
       "32799  Sachin Tendulkar, Arjun Tendulkar, Mahendra Si...  unknown   \n",
       "32800                    Aadhi, Nikki Galrani, Anandaraj  unknown   \n",
       "32801  Sridevi, Nawazuddin Siddiqui, Akshaye Khanna, ...  unknown   \n",
       "\n",
       "                                               Wiki Page  \\\n",
       "32797           https://en.wikipedia.org/wiki/Maanagaram   \n",
       "32798     https://en.wikipedia.org/wiki/Dora_(2017_film)   \n",
       "32799  https://en.wikipedia.org/wiki/Sachin:_A_Billio...   \n",
       "32800   https://en.wikipedia.org/wiki/Maragadha_Naanayam   \n",
       "32801           https://en.wikipedia.org/wiki/Mom_(film)   \n",
       "\n",
       "                                                    Plot  \n",
       "32797  The names of the lead characters are not revea...  \n",
       "32798  The film opens with Pavalakkodi (Nayanthara) i...  \n",
       "32799  Before the film, clips are shown of birth of S...  \n",
       "32800  Prelude: Nearly a thousand years ago King Irum...  \n",
       "32801  Biology teacher Devki is vivacious and popular...  "
      ]
     },
     "execution_count": 14,
     "metadata": {},
     "output_type": "execute_result"
    }
   ],
   "source": [
    "my_data.tail()"
   ]
  },
  {
   "cell_type": "code",
   "execution_count": 15,
   "id": "eb852607",
   "metadata": {},
   "outputs": [],
   "source": [
    "finaldata = my_data[[\"Title\", \"Plot\"]]"
   ]
  },
  {
   "cell_type": "code",
   "execution_count": 16,
   "id": "04571279",
   "metadata": {},
   "outputs": [],
   "source": [
    "finaldata = finaldata.set_index('Title')"
   ]
  },
  {
   "cell_type": "code",
   "execution_count": 17,
   "id": "af686694",
   "metadata": {},
   "outputs": [
    {
     "data": {
      "text/html": [
       "<div>\n",
       "<style scoped>\n",
       "    .dataframe tbody tr th:only-of-type {\n",
       "        vertical-align: middle;\n",
       "    }\n",
       "\n",
       "    .dataframe tbody tr th {\n",
       "        vertical-align: top;\n",
       "    }\n",
       "\n",
       "    .dataframe thead th {\n",
       "        text-align: right;\n",
       "    }\n",
       "</style>\n",
       "<table border=\"1\" class=\"dataframe\">\n",
       "  <thead>\n",
       "    <tr style=\"text-align: right;\">\n",
       "      <th></th>\n",
       "      <th>Plot</th>\n",
       "    </tr>\n",
       "    <tr>\n",
       "      <th>Title</th>\n",
       "      <th></th>\n",
       "    </tr>\n",
       "  </thead>\n",
       "  <tbody>\n",
       "    <tr>\n",
       "      <th>Chitram Bhalare Vichitram</th>\n",
       "      <td>Raja (Naresh), Sudhakar (Subhalekha Sudhakar),...</td>\n",
       "    </tr>\n",
       "    <tr>\n",
       "      <th>Abbayitho Ammayi</th>\n",
       "      <td>Abhi (Naga Shourya) is a desperate youth who w...</td>\n",
       "    </tr>\n",
       "    <tr>\n",
       "      <th>Nenu Sailaja</th>\n",
       "      <td>The film starts with Hari (Ram Pothineni) sitt...</td>\n",
       "    </tr>\n",
       "    <tr>\n",
       "      <th>Nannaku Prematho</th>\n",
       "      <td>Abhiram (Jr. NTR), the youngest son of London-...</td>\n",
       "    </tr>\n",
       "    <tr>\n",
       "      <th>Express Raja</th>\n",
       "      <td>The film begins with the introduction of Inumu...</td>\n",
       "    </tr>\n",
       "    <tr>\n",
       "      <th>Dictator</th>\n",
       "      <td>Chandu (Balakrishna Nandamuri) works at Dharma...</td>\n",
       "    </tr>\n",
       "    <tr>\n",
       "      <th>Soggade Chinni Nayana</th>\n",
       "      <td>Ram \"Ramu\" Mohan is a socially-inept cardiolog...</td>\n",
       "    </tr>\n",
       "    <tr>\n",
       "      <th>Lacchimdeviki O Lekkundi</th>\n",
       "      <td>Devi (Lavanya) works in a bank as cashier, and...</td>\n",
       "    </tr>\n",
       "    <tr>\n",
       "      <th>Seethamma Andalu Ramayya Sitralu</th>\n",
       "      <td>Sri Ram (Raj Tarun) is a young village dude, w...</td>\n",
       "    </tr>\n",
       "    <tr>\n",
       "      <th>Speedunnodu</th>\n",
       "      <td>Sobhan (Bellamkonda Sreenivas) is a son of pre...</td>\n",
       "    </tr>\n",
       "    <tr>\n",
       "      <th>Vennello Hai Hai</th>\n",
       "      <td>Susheel(Ajmal) is a software engineer working ...</td>\n",
       "    </tr>\n",
       "    <tr>\n",
       "      <th>Krishna Gadi Veera Prema Gaadha</th>\n",
       "      <td>Krishna (Nani) is a soft natured person who is...</td>\n",
       "    </tr>\n",
       "    <tr>\n",
       "      <th>Garam</th>\n",
       "      <td>Varala Babu (Aadi) who is poor at studies woul...</td>\n",
       "    </tr>\n",
       "    <tr>\n",
       "      <th>Malupu</th>\n",
       "      <td>A young woman tries to call the emergency hotl...</td>\n",
       "    </tr>\n",
       "    <tr>\n",
       "      <th>Kshanam</th>\n",
       "      <td>Rishi, a San Francisco-based investment banker...</td>\n",
       "    </tr>\n",
       "    <tr>\n",
       "      <th>Eluka Majaka</th>\n",
       "      <td>Balu (Vennela Kishore) falls in love with Swap...</td>\n",
       "    </tr>\n",
       "    <tr>\n",
       "      <th>Guntur Talkies</th>\n",
       "      <td>Hari (Siddu) and Giri (Naresh) live in a slum ...</td>\n",
       "    </tr>\n",
       "    <tr>\n",
       "      <th>Shourya</th>\n",
       "      <td>Shourya (Manchu Manoj) and Netra (Regina Cassa...</td>\n",
       "    </tr>\n",
       "    <tr>\n",
       "      <th>Tuntari</th>\n",
       "      <td>When a group of five IT professionals decide t...</td>\n",
       "    </tr>\n",
       "    <tr>\n",
       "      <th>Tulasi Dalam</th>\n",
       "      <td>Satvik (Nishchal Deva) who is an orphan moving...</td>\n",
       "    </tr>\n",
       "    <tr>\n",
       "      <th>Seesa</th>\n",
       "      <td>Seesa is a thriller film all about human emoti...</td>\n",
       "    </tr>\n",
       "    <tr>\n",
       "      <th>Run</th>\n",
       "      <td>Sanjay (Sundeep Kishan) loses his job. He is m...</td>\n",
       "    </tr>\n",
       "    <tr>\n",
       "      <th>Oopiri</th>\n",
       "      <td>Vikramadhitya is a wealthy entrepreneur who ow...</td>\n",
       "    </tr>\n",
       "    <tr>\n",
       "      <th>Attack</th>\n",
       "      <td>Guru Raj (Prakash Raj) the man of the masses, ...</td>\n",
       "    </tr>\n",
       "    <tr>\n",
       "      <th>Savitri</th>\n",
       "      <td>Savitri (Nanditha) is crazy about getting marr...</td>\n",
       "    </tr>\n",
       "    <tr>\n",
       "      <th>Sardaar Gabbar Singh</th>\n",
       "      <td>The story tells us about gabbar singh[pawan ka...</td>\n",
       "    </tr>\n",
       "    <tr>\n",
       "      <th>Eedo Rakam Aado Rakam</th>\n",
       "      <td>The story runs between two good friends Arjun ...</td>\n",
       "    </tr>\n",
       "    <tr>\n",
       "      <th>Sarrainodu</th>\n",
       "      <td>Gana (Allu Arjun) is a youth who beats crooked...</td>\n",
       "    </tr>\n",
       "    <tr>\n",
       "      <th>Raja Cheyyi Vesthe</th>\n",
       "      <td>Raja ram (Nara rohit) is a aspiring film maker...</td>\n",
       "    </tr>\n",
       "    <tr>\n",
       "      <th>Supreme</th>\n",
       "      <td>Jagruthi Foundation was founded by a royal dyn...</td>\n",
       "    </tr>\n",
       "    <tr>\n",
       "      <th>Brahmotsavam</th>\n",
       "      <td>The movie starts with Ajay's (Mahesh Babu) ent...</td>\n",
       "    </tr>\n",
       "    <tr>\n",
       "      <th>A Aa</th>\n",
       "      <td>A Aa revolves around the lives of 23-year old ...</td>\n",
       "    </tr>\n",
       "    <tr>\n",
       "      <th>Right Right</th>\n",
       "      <td>An accident interlinks the life of a driver an...</td>\n",
       "    </tr>\n",
       "    <tr>\n",
       "      <th>Gentleman</th>\n",
       "      <td>Aishwarya, the daughter of a wealthy entrepren...</td>\n",
       "    </tr>\n",
       "    <tr>\n",
       "      <th>Oka Manasu</th>\n",
       "      <td>Sandhya (Niharika Konidela), a young medical s...</td>\n",
       "    </tr>\n",
       "    <tr>\n",
       "      <th>Nayaki</th>\n",
       "      <td>Nayaki is a horror movie . Nayaki is about Gay...</td>\n",
       "    </tr>\n",
       "    <tr>\n",
       "      <th>Pellichoopulu</th>\n",
       "      <td>Prasanth (Vijay Deverakonda) goes to Chitra's ...</td>\n",
       "    </tr>\n",
       "    <tr>\n",
       "      <th>Jakkanna</th>\n",
       "      <td>A man's (Sunil) attempts to repay a kindness e...</td>\n",
       "    </tr>\n",
       "    <tr>\n",
       "      <th>Manamantha</th>\n",
       "      <td>Manamantha follows the lives of 4 people from ...</td>\n",
       "    </tr>\n",
       "    <tr>\n",
       "      <th>Srirastu Subhamastu</th>\n",
       "      <td>Sirish (Allu Sirish) falls in love with Ananya...</td>\n",
       "    </tr>\n",
       "    <tr>\n",
       "      <th>Babu Bangaram</th>\n",
       "      <td>ACP Krishna (Venkatesh) who is a kind-hearted ...</td>\n",
       "    </tr>\n",
       "    <tr>\n",
       "      <th>Thikka</th>\n",
       "      <td>The film is a confusion kidnap drama; Aditya (...</td>\n",
       "    </tr>\n",
       "    <tr>\n",
       "      <th>Janatha Garage</th>\n",
       "      <td>Sathyam (Mohanlal) is a small workshop owner i...</td>\n",
       "    </tr>\n",
       "    <tr>\n",
       "      <th>Nirmala Convent</th>\n",
       "      <td>Samuel (Roshan Meka), son of a poor farmer, Da...</td>\n",
       "    </tr>\n",
       "    <tr>\n",
       "      <th>Majnu</th>\n",
       "      <td>The plot revolves around Aditya (Nani), who wo...</td>\n",
       "    </tr>\n",
       "    <tr>\n",
       "      <th>Hyper</th>\n",
       "      <td>Surya (Ram) is a carefree youth who lives with...</td>\n",
       "    </tr>\n",
       "    <tr>\n",
       "      <th>Abhinetri</th>\n",
       "      <td>Krishna Kumar (Prabhu Deva) is a happy go luck...</td>\n",
       "    </tr>\n",
       "    <tr>\n",
       "      <th>Mana Oori Ramayanam</th>\n",
       "      <td>The film is set against the backdrop of Rama N...</td>\n",
       "    </tr>\n",
       "    <tr>\n",
       "      <th>Premam</th>\n",
       "      <td>The film opens in the year 2000, where Vikram ...</td>\n",
       "    </tr>\n",
       "    <tr>\n",
       "      <th>Ism</th>\n",
       "      <td>Javed Ibrahim (Jagapati Babu), is a high-profi...</td>\n",
       "    </tr>\n",
       "  </tbody>\n",
       "</table>\n",
       "</div>"
      ],
      "text/plain": [
       "                                                                               Plot\n",
       "Title                                                                              \n",
       "Chitram Bhalare Vichitram         Raja (Naresh), Sudhakar (Subhalekha Sudhakar),...\n",
       "Abbayitho Ammayi                  Abhi (Naga Shourya) is a desperate youth who w...\n",
       "Nenu Sailaja                      The film starts with Hari (Ram Pothineni) sitt...\n",
       "Nannaku Prematho                  Abhiram (Jr. NTR), the youngest son of London-...\n",
       "Express Raja                      The film begins with the introduction of Inumu...\n",
       "Dictator                          Chandu (Balakrishna Nandamuri) works at Dharma...\n",
       "Soggade Chinni Nayana             Ram \"Ramu\" Mohan is a socially-inept cardiolog...\n",
       "Lacchimdeviki O Lekkundi          Devi (Lavanya) works in a bank as cashier, and...\n",
       "Seethamma Andalu Ramayya Sitralu  Sri Ram (Raj Tarun) is a young village dude, w...\n",
       "Speedunnodu                       Sobhan (Bellamkonda Sreenivas) is a son of pre...\n",
       "Vennello Hai Hai                  Susheel(Ajmal) is a software engineer working ...\n",
       "Krishna Gadi Veera Prema Gaadha   Krishna (Nani) is a soft natured person who is...\n",
       "Garam                             Varala Babu (Aadi) who is poor at studies woul...\n",
       "Malupu                            A young woman tries to call the emergency hotl...\n",
       "Kshanam                           Rishi, a San Francisco-based investment banker...\n",
       "Eluka Majaka                      Balu (Vennela Kishore) falls in love with Swap...\n",
       "Guntur Talkies                    Hari (Siddu) and Giri (Naresh) live in a slum ...\n",
       "Shourya                           Shourya (Manchu Manoj) and Netra (Regina Cassa...\n",
       "Tuntari                           When a group of five IT professionals decide t...\n",
       "Tulasi Dalam                      Satvik (Nishchal Deva) who is an orphan moving...\n",
       "Seesa                             Seesa is a thriller film all about human emoti...\n",
       "Run                               Sanjay (Sundeep Kishan) loses his job. He is m...\n",
       "Oopiri                            Vikramadhitya is a wealthy entrepreneur who ow...\n",
       "Attack                            Guru Raj (Prakash Raj) the man of the masses, ...\n",
       "Savitri                           Savitri (Nanditha) is crazy about getting marr...\n",
       "Sardaar Gabbar Singh              The story tells us about gabbar singh[pawan ka...\n",
       "Eedo Rakam Aado Rakam             The story runs between two good friends Arjun ...\n",
       "Sarrainodu                        Gana (Allu Arjun) is a youth who beats crooked...\n",
       "Raja Cheyyi Vesthe                Raja ram (Nara rohit) is a aspiring film maker...\n",
       "Supreme                           Jagruthi Foundation was founded by a royal dyn...\n",
       "Brahmotsavam                      The movie starts with Ajay's (Mahesh Babu) ent...\n",
       "A Aa                              A Aa revolves around the lives of 23-year old ...\n",
       "Right Right                       An accident interlinks the life of a driver an...\n",
       "Gentleman                         Aishwarya, the daughter of a wealthy entrepren...\n",
       "Oka Manasu                        Sandhya (Niharika Konidela), a young medical s...\n",
       "Nayaki                            Nayaki is a horror movie . Nayaki is about Gay...\n",
       "Pellichoopulu                     Prasanth (Vijay Deverakonda) goes to Chitra's ...\n",
       "Jakkanna                          A man's (Sunil) attempts to repay a kindness e...\n",
       "Manamantha                        Manamantha follows the lives of 4 people from ...\n",
       "Srirastu Subhamastu               Sirish (Allu Sirish) falls in love with Ananya...\n",
       "Babu Bangaram                     ACP Krishna (Venkatesh) who is a kind-hearted ...\n",
       "Thikka                            The film is a confusion kidnap drama; Aditya (...\n",
       "Janatha Garage                    Sathyam (Mohanlal) is a small workshop owner i...\n",
       "Nirmala Convent                   Samuel (Roshan Meka), son of a poor farmer, Da...\n",
       "Majnu                             The plot revolves around Aditya (Nani), who wo...\n",
       "Hyper                             Surya (Ram) is a carefree youth who lives with...\n",
       "Abhinetri                         Krishna Kumar (Prabhu Deva) is a happy go luck...\n",
       "Mana Oori Ramayanam               The film is set against the backdrop of Rama N...\n",
       "Premam                            The film opens in the year 2000, where Vikram ...\n",
       "Ism                               Javed Ibrahim (Jagapati Babu), is a high-profi..."
      ]
     },
     "execution_count": 17,
     "metadata": {},
     "output_type": "execute_result"
    }
   ],
   "source": [
    "finaldata.head(50)\n"
   ]
  },
  {
   "cell_type": "code",
   "execution_count": 18,
   "id": "83bfbfba",
   "metadata": {},
   "outputs": [
    {
     "data": {
      "text/plain": [
       "\"A young woman tries to call the emergency hotline to save her before she is murdered in a flat in Chennai. Someone is shown covering up the crime.\\r\\nSaga (Aadhi), a regular, middle-class college student from Chennai arrives in Mumbai to meet Mudaliar, the city's underworld don and protector of the poor. At around the same time, Mudaliar is rushed to the hospital after he is almost killed in an assassination attempt. A mob assembles before his house and demands he show up to prove he is alive. When he finally does appear, the crowd is grateful for his survival and pray for his well-being.\\r\\nSaga and his three wealthy friends purposely skip their finals so that they can continue to stay in college and enjoy themselves rather than face adulthood. Despite being warned by his parents to stay away from his friends as they are a bad influence on him, Saga hangs out with them. He finally decides to turn over a new leaf after Kayal (Nikki Galrani), the girl he falls in love with, convinces his father that Saga can be a responsible adult if given the chance. His parents then put him in charge of his sister's wedding arrangements before leaving for their hometown to meet relatives.\\r\\nWith his family out of town, Saga follows his three friends for a night in the city to celebrate New Year's Eve. At a restaurant, two of his friends are drunk and get into a fight with a girl named Priya and her boyfriend, Surya. When the police come to resolve the ruckus, they realise that Saga's third friend is the son of the police commissioner and decides to arrest Surya instead. Priya protests and is publicly humiliated by the police inspector, without knowing who she is. She then warns Saga and his friends to go into hiding as they will not live to see the light of day.\\r\\nBy midnight, Saga and his friends come to know that Priya is actually the daughter of Mudaliar. Her brother, Guna, who runs Mudaliar's businesses in Chennai is after them for revenge. Saga's friends try to convince him to follow them into hiding as arranged by their wealthy and influential fathers, but he insists on staying to arrange for his sister's wedding. Later that morning, Saga is chased down by Guna's men while in town. He is finally saved by Deva, Guna's henchman who realises that Saga saved his brother's life once. Deva advises Saga to go to Mumbai to meet Mudaliar in person and explain everything since he is a sensible man, unlike Guna.\\r\\nSaga goes to Mudaliar's home and claims that Guna sent him. When it is discovered he is lying, he is tortured since he is suspected for the assassination attempt on Mudaliar. Saga finally gets to meet Mudaliar and explains the truth of what happened that night in Chennai. However, Mudaliar drops a bombshell by saying that after Priya bailed out Surya from the police station that night, both of them went missing and have not been seen since. Since Saga and his friends were the last to see the couple alive, they are the prime suspects. Saga refuses to reveal his friends' whereabouts until Mudaliar threatens to have his family killed. Mudaliar then gives Saga some time to find his friends or else his family will die.\\r\\nWith Kayal and Deva's help, Saga finds out where his friends are hiding. In between, Saga is being attacked by a person in a purdah. As Saga cannot see his face, he is unable to catch his attacker. Saga goes into hiding as he suspects that he is being targeted by the father of one of his friends, in order to keep their identities safe. The attacker then tries to kill Deva and runs away. In the process, he begins to suspect that their fathers are trying to frame him for Priya's disappearance to save their sons. This forces Saga to reveal his friends' hideouts to Mudaliar, who releases his family. Saga then visits Deva in the hospital who is receiving treatment. Deva hands Saga a paper that has a symbol and says the attacker had this symbol tattooed in his hand. After much thinking, Saga realises that he saw such a tattoo on Surya's forearm and he might know about Priya's whereabouts and goes to his flat. Once there, he finds Surya's frozen body being kept by Surya's psychotic ex-girlfriend, Nila who also has the same tattoo on her hand. It is then revealed that she killed both Surya and Priya on New Year's Eve out of jealousy. Before Saga can take Nila to meet Mudaliar, she is killed by Deva's brother, leaving Saga with no alternative to convince the don of the truth. At around the same time, Mudaliar and Guna find Priya's body washed up on the beach.\\r\\nOnce his men have rounded up Saga and his friends, Mudaliar orders Guna and their men to kill them. However, the friend who tried to hit on Priya and caused the whole misunderstanding finally admits his mistake to Mudaliar and pleads for his friends' release in return for his life. Moved by the young man's deed, Mudaliar lets the four friends go as he realises they couldn't have killed his daughter as they were willing to sacrifice their life for their friends.\""
      ]
     },
     "execution_count": 18,
     "metadata": {},
     "output_type": "execute_result"
    }
   ],
   "source": [
    "finaldata[\"Plot\"][\"Malupu\"]\n"
   ]
  },
  {
   "cell_type": "markdown",
   "id": "b676a3e0",
   "metadata": {},
   "source": [
    "# Step 3: Preprocess the data"
   ]
  },
  {
   "cell_type": "code",
   "execution_count": 19,
   "id": "3d8b2710",
   "metadata": {},
   "outputs": [],
   "source": [
    "import nltk\n"
   ]
  },
  {
   "cell_type": "code",
   "execution_count": 20,
   "id": "80fea234",
   "metadata": {},
   "outputs": [
    {
     "name": "stderr",
     "output_type": "stream",
     "text": [
      "[nltk_data] Downloading package punkt to\n",
      "[nltk_data]     C:\\Users\\home\\AppData\\Roaming\\nltk_data...\n",
      "[nltk_data]   Package punkt is already up-to-date!\n"
     ]
    },
    {
     "data": {
      "text/plain": [
       "True"
      ]
     },
     "execution_count": 20,
     "metadata": {},
     "output_type": "execute_result"
    }
   ],
   "source": [
    "nltk.download('punkt')"
   ]
  },
  {
   "cell_type": "code",
   "execution_count": 21,
   "id": "bf8dd8c2",
   "metadata": {},
   "outputs": [
    {
     "name": "stderr",
     "output_type": "stream",
     "text": [
      "[nltk_data] Downloading package averaged_perceptron_tagger to\n",
      "[nltk_data]     C:\\Users\\home\\AppData\\Roaming\\nltk_data...\n",
      "[nltk_data]   Package averaged_perceptron_tagger is already up-to-\n",
      "[nltk_data]       date!\n"
     ]
    },
    {
     "data": {
      "text/plain": [
       "True"
      ]
     },
     "execution_count": 21,
     "metadata": {},
     "output_type": "execute_result"
    }
   ],
   "source": [
    "nltk.download('averaged_perceptron_tagger')"
   ]
  },
  {
   "cell_type": "code",
   "execution_count": 22,
   "id": "76453dda",
   "metadata": {},
   "outputs": [
    {
     "name": "stderr",
     "output_type": "stream",
     "text": [
      "[nltk_data] Downloading package wordnet to\n",
      "[nltk_data]     C:\\Users\\home\\AppData\\Roaming\\nltk_data...\n",
      "[nltk_data]   Package wordnet is already up-to-date!\n"
     ]
    },
    {
     "data": {
      "text/plain": [
       "True"
      ]
     },
     "execution_count": 22,
     "metadata": {},
     "output_type": "execute_result"
    }
   ],
   "source": [
    "nltk.download('wordnet')"
   ]
  },
  {
   "cell_type": "code",
   "execution_count": 23,
   "id": "88b838dd",
   "metadata": {},
   "outputs": [
    {
     "name": "stderr",
     "output_type": "stream",
     "text": [
      "[nltk_data] Downloading package stopwords to\n",
      "[nltk_data]     C:\\Users\\home\\AppData\\Roaming\\nltk_data...\n",
      "[nltk_data]   Package stopwords is already up-to-date!\n"
     ]
    },
    {
     "data": {
      "text/plain": [
       "True"
      ]
     },
     "execution_count": 23,
     "metadata": {},
     "output_type": "execute_result"
    }
   ],
   "source": [
    "nltk.download('stopwords')\n"
   ]
  },
  {
   "cell_type": "code",
   "execution_count": 24,
   "id": "2b933a62",
   "metadata": {},
   "outputs": [],
   "source": [
    "from nltk.stem import WordNetLemmatizer\n",
    "from nltk.corpus import stopwords\n",
    "lemmatizer = WordNetLemmatizer()"
   ]
  },
  {
   "cell_type": "code",
   "execution_count": 25,
   "id": "83c564cb",
   "metadata": {},
   "outputs": [
    {
     "data": {
      "text/html": [
       "<div>\n",
       "<style scoped>\n",
       "    .dataframe tbody tr th:only-of-type {\n",
       "        vertical-align: middle;\n",
       "    }\n",
       "\n",
       "    .dataframe tbody tr th {\n",
       "        vertical-align: top;\n",
       "    }\n",
       "\n",
       "    .dataframe thead th {\n",
       "        text-align: right;\n",
       "    }\n",
       "</style>\n",
       "<table border=\"1\" class=\"dataframe\">\n",
       "  <thead>\n",
       "    <tr style=\"text-align: right;\">\n",
       "      <th></th>\n",
       "      <th>Plot</th>\n",
       "      <th>new_plot</th>\n",
       "    </tr>\n",
       "    <tr>\n",
       "      <th>Title</th>\n",
       "      <th></th>\n",
       "      <th></th>\n",
       "    </tr>\n",
       "  </thead>\n",
       "  <tbody>\n",
       "    <tr>\n",
       "      <th>Chitram Bhalare Vichitram</th>\n",
       "      <td>Raja (Naresh), Sudhakar (Subhalekha Sudhakar),...</td>\n",
       "      <td>raja ( naresh ) , sudhakar ( subhalekha sudhak...</td>\n",
       "    </tr>\n",
       "    <tr>\n",
       "      <th>Abbayitho Ammayi</th>\n",
       "      <td>Abhi (Naga Shourya) is a desperate youth who w...</td>\n",
       "      <td>abhi ( naga shourya ) desperate youth want fun...</td>\n",
       "    </tr>\n",
       "    <tr>\n",
       "      <th>Nenu Sailaja</th>\n",
       "      <td>The film starts with Hari (Ram Pothineni) sitt...</td>\n",
       "      <td>film start hari ( ram pothineni ) sitting beac...</td>\n",
       "    </tr>\n",
       "    <tr>\n",
       "      <th>Nannaku Prematho</th>\n",
       "      <td>Abhiram (Jr. NTR), the youngest son of London-...</td>\n",
       "      <td>abhiram ( jr. ntr ) , youngest son london-base...</td>\n",
       "    </tr>\n",
       "    <tr>\n",
       "      <th>Express Raja</th>\n",
       "      <td>The film begins with the introduction of Inumu...</td>\n",
       "      <td>film begin introduction inumu ( dhanraj ) , pe...</td>\n",
       "    </tr>\n",
       "  </tbody>\n",
       "</table>\n",
       "</div>"
      ],
      "text/plain": [
       "                                                                        Plot  \\\n",
       "Title                                                                          \n",
       "Chitram Bhalare Vichitram  Raja (Naresh), Sudhakar (Subhalekha Sudhakar),...   \n",
       "Abbayitho Ammayi           Abhi (Naga Shourya) is a desperate youth who w...   \n",
       "Nenu Sailaja               The film starts with Hari (Ram Pothineni) sitt...   \n",
       "Nannaku Prematho           Abhiram (Jr. NTR), the youngest son of London-...   \n",
       "Express Raja               The film begins with the introduction of Inumu...   \n",
       "\n",
       "                                                                    new_plot  \n",
       "Title                                                                         \n",
       "Chitram Bhalare Vichitram  raja ( naresh ) , sudhakar ( subhalekha sudhak...  \n",
       "Abbayitho Ammayi           abhi ( naga shourya ) desperate youth want fun...  \n",
       "Nenu Sailaja               film start hari ( ram pothineni ) sitting beac...  \n",
       "Nannaku Prematho           abhiram ( jr. ntr ) , youngest son london-base...  \n",
       "Express Raja               film begin introduction inumu ( dhanraj ) , pe...  "
      ]
     },
     "execution_count": 25,
     "metadata": {},
     "output_type": "execute_result"
    }
   ],
   "source": [
    "def preprocess_sentences(text):\n",
    "    text = text.lower()\n",
    "    words = nltk.word_tokenize(text)\n",
    "    my_sent=[lemmatizer.lemmatize(word) for word in words if word not in stopwords.words('english')]\n",
    "    finalsent = ' '.join(my_sent)\n",
    "\n",
    "    finalsent = finalsent.replace(\"n't\", \" not\")\n",
    "    finalsent = finalsent.replace(\"'m\", \" am\")\n",
    "    finalsent = finalsent.replace(\"'s\", \" is\")\n",
    "    finalsent = finalsent.replace(\"'re\", \" are\")\n",
    "    finalsent = finalsent.replace(\"'ll\", \" will\")\n",
    "    finalsent = finalsent.replace(\"'ve\", \" have\")\n",
    "    finalsent = finalsent.replace(\"'d\", \" would\")\n",
    "    \n",
    "    return finalsent\n",
    "\n",
    "finaldata[\"new_plot\"]= finaldata[\"Plot\"].apply(preprocess_sentences)\n",
    "finaldata.head()"
   ]
  },
  {
   "cell_type": "code",
   "execution_count": 26,
   "id": "b8d57150",
   "metadata": {},
   "outputs": [
    {
     "name": "stdout",
     "output_type": "stream",
     "text": [
      "Requirement already satisfied: scikit-learn in c:\\users\\home\\anaconda3\\lib\\site-packages (0.24.1)\n",
      "Requirement already satisfied: numpy>=1.13.3 in c:\\users\\home\\anaconda3\\lib\\site-packages (from scikit-learn) (1.20.1)\n",
      "Requirement already satisfied: scipy>=0.19.1 in c:\\users\\home\\anaconda3\\lib\\site-packages (from scikit-learn) (1.6.2)\n",
      "Requirement already satisfied: joblib>=0.11 in c:\\users\\home\\anaconda3\\lib\\site-packages (from scikit-learn) (1.0.1)\n",
      "Requirement already satisfied: threadpoolctl>=2.0.0 in c:\\users\\home\\anaconda3\\lib\\site-packages (from scikit-learn) (2.1.0)\n"
     ]
    }
   ],
   "source": [
    "!pip install scikit-learn"
   ]
  },
  {
   "cell_type": "markdown",
   "id": "267c129c",
   "metadata": {},
   "source": [
    "# Step 4: Use TF-IDF to vectorize preprocessed movieplots"
   ]
  },
  {
   "cell_type": "code",
   "execution_count": 27,
   "id": "7aacaef1",
   "metadata": {},
   "outputs": [],
   "source": [
    "from sklearn.feature_extraction.text import TfidfVectorizer"
   ]
  },
  {
   "cell_type": "code",
   "execution_count": 28,
   "id": "c7482ffe",
   "metadata": {},
   "outputs": [],
   "source": [
    "tfidf = TfidfVectorizer()\n",
    "tfidf_movieid = tfidf.fit_transform((finaldata[\"new_plot\"]))"
   ]
  },
  {
   "cell_type": "code",
   "execution_count": 29,
   "id": "cc720650",
   "metadata": {},
   "outputs": [],
   "source": [
    "from sklearn.metrics.pairwise import cosine_similarity\n",
    "similarity = cosine_similarity(tfidf_movieid, tfidf_movieid)"
   ]
  },
  {
   "cell_type": "code",
   "execution_count": 30,
   "id": "a0fe58bc",
   "metadata": {},
   "outputs": [],
   "source": [
    "indices = pd.Series(finaldata.index)\n",
    "def recommendations(title, cosine_sim = similarity):\n",
    "  try:\n",
    "    index = indices[indices == title].index[0]\n",
    "    print(index)\n",
    "    similarity_scores = pd.Series(cosine_sim[index]).sort_values(ascending = False)\n",
    "    print(similarity_scores)\n",
    "    top_10_movies = list(similarity_scores.iloc[1:11].index)\n",
    "    print(top_10_movies)\n",
    "    recommended_movies = [list(finaldata.index)[i] for i in top_10_movies]\n",
    "    return recommended_movies\n",
    "  except:\n",
    "    print(\"No movie name found\")  "
   ]
  },
  {
   "cell_type": "markdown",
   "id": "5b8c011a",
   "metadata": {},
   "source": [
    "# Step 5: Final predictions"
   ]
  },
  {
   "cell_type": "code",
   "execution_count": 24,
   "id": "d213a218",
   "metadata": {},
   "outputs": [
    {
     "name": "stdout",
     "output_type": "stream",
     "text": [
      "13\n",
      "13    1.000000\n",
      "72    0.078639\n",
      "73    0.074301\n",
      "30    0.069783\n",
      "34    0.063669\n",
      "        ...   \n",
      "83    0.010938\n",
      "94    0.010430\n",
      "32    0.005092\n",
      "20    0.004148\n",
      "57    0.002554\n",
      "Length: 104, dtype: float64\n",
      "[72, 73, 30, 34, 9, 99, 74, 42, 50, 98]\n"
     ]
    },
    {
     "data": {
      "text/plain": [
       "['Keshava',\n",
       " 'Rarandoi Veduka Chudham',\n",
       " 'Brahmotsavam',\n",
       " 'Oka Manasu',\n",
       " 'Speedunnodu',\n",
       " 'Logesh Kanagaraj',\n",
       " 'Andhhagadu',\n",
       " 'Janatha Garage',\n",
       " 'Sahasam Swasaga Sagipo',\n",
       " 'Jay. K']"
      ]
     },
     "execution_count": 24,
     "metadata": {},
     "output_type": "execute_result"
    }
   ],
   "source": [
    "recommendations(\"Malupu\")"
   ]
  },
  {
   "cell_type": "code",
   "execution_count": null,
   "id": "1c91676b",
   "metadata": {},
   "outputs": [],
   "source": []
  },
  {
   "cell_type": "code",
   "execution_count": 26,
   "id": "046828aa",
   "metadata": {},
   "outputs": [
    {
     "name": "stdout",
     "output_type": "stream",
     "text": [
      "4\n",
      "4     1.000000\n",
      "92    0.234612\n",
      "21    0.164629\n",
      "28    0.155028\n",
      "72    0.119526\n",
      "        ...   \n",
      "25    0.006935\n",
      "64    0.006551\n",
      "35    0.005901\n",
      "19    0.001605\n",
      "32    0.000000\n",
      "Length: 104, dtype: float64\n",
      "[92, 21, 28, 72, 43, 100, 16, 84, 65, 59]\n"
     ]
    },
    {
     "data": {
      "text/plain": [
       "['Raja the Great',\n",
       " 'Run',\n",
       " 'Raja Cheyyi Vesthe',\n",
       " 'Keshava',\n",
       " 'Nirmala Convent',\n",
       " 'Doss Ramaswamy',\n",
       " 'Guntur Talkies',\n",
       " 'Anando Brahma',\n",
       " 'Winner',\n",
       " 'Khaidi No. 150']"
      ]
     },
     "execution_count": 26,
     "metadata": {},
     "output_type": "execute_result"
    }
   ],
   "source": [
    "recommendations(\"Express Raja\")"
   ]
  },
  {
   "cell_type": "code",
   "execution_count": 31,
   "id": "dc74699c",
   "metadata": {},
   "outputs": [
    {
     "name": "stdout",
     "output_type": "stream",
     "text": [
      "No movie name found\n"
     ]
    }
   ],
   "source": [
    "recommendations(\"bro\")"
   ]
  },
  {
   "cell_type": "code",
   "execution_count": 32,
   "id": "8146a935",
   "metadata": {},
   "outputs": [
    {
     "name": "stdout",
     "output_type": "stream",
     "text": [
      "2\n",
      "2     1.000000\n",
      "16    0.129562\n",
      "30    0.062355\n",
      "79    0.056487\n",
      "62    0.054267\n",
      "        ...   \n",
      "19    0.007973\n",
      "57    0.006526\n",
      "20    0.004518\n",
      "37    0.003820\n",
      "32    0.002343\n",
      "Length: 104, dtype: float64\n",
      "[16, 30, 79, 62, 5, 72, 73, 48, 100, 99]\n"
     ]
    },
    {
     "data": {
      "text/plain": [
       "['Guntur Talkies',\n",
       " 'Brahmotsavam',\n",
       " 'Fidaa',\n",
       " 'Nenu Local',\n",
       " 'Dictator',\n",
       " 'Keshava',\n",
       " 'Rarandoi Veduka Chudham',\n",
       " 'Premam',\n",
       " 'Doss Ramaswamy',\n",
       " 'Logesh Kanagaraj']"
      ]
     },
     "execution_count": 32,
     "metadata": {},
     "output_type": "execute_result"
    }
   ],
   "source": [
    "recommendations(\"Nenu Sailaja\")"
   ]
  },
  {
   "cell_type": "code",
   "execution_count": null,
   "id": "82fdcb16",
   "metadata": {},
   "outputs": [],
   "source": []
  }
 ],
 "metadata": {
  "kernelspec": {
   "display_name": "Python 3",
   "language": "python",
   "name": "python3"
  },
  "language_info": {
   "codemirror_mode": {
    "name": "ipython",
    "version": 3
   },
   "file_extension": ".py",
   "mimetype": "text/x-python",
   "name": "python",
   "nbconvert_exporter": "python",
   "pygments_lexer": "ipython3",
   "version": "3.8.8"
  }
 },
 "nbformat": 4,
 "nbformat_minor": 5
}
